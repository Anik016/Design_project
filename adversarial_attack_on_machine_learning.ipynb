{
 "cells": [
  {
   "cell_type": "markdown",
   "id": "6d8f6519",
   "metadata": {},
   "source": [
    "VGG-19 IMPLEMENTATION"
   ]
  },
  {
   "cell_type": "code",
   "execution_count": null,
   "id": "37abda9e",
   "metadata": {},
   "outputs": [],
   "source": [
    "import os\n",
    "import numpy as np\n",
    "import matplotlib.pyplot as plt\n",
    "import torch\n",
    "import torch.nn as nn\n",
    "import torch.optim as optim\n",
    "import torchvision.transforms as transforms\n",
    "from PIL import Image\n",
    "from sklearn.model_selection import train_test_split\n",
    "# from google.colab import drive\n",
    "import random"
   ]
  },
  {
   "cell_type": "code",
   "execution_count": null,
   "id": "aa72d4ae",
   "metadata": {},
   "outputs": [],
   "source": [
    "# drive.mount('/content/drive')"
   ]
  },
  {
   "cell_type": "code",
   "execution_count": null,
   "id": "48822874",
   "metadata": {},
   "outputs": [],
   "source": [
    "IMG_SIZE = 224  # 224x224 as mentioned in paper\n",
    "NUM_SAMPLES = 500"
   ]
  },
  {
   "cell_type": "code",
   "execution_count": null,
   "id": "5bd077b5",
   "metadata": {},
   "outputs": [],
   "source": [
    "dataset_path = 'E://data'\n",
    "train_path = os.path.join(dataset_path, 'train')\n",
    "test_path = os.path.join(dataset_path, 'test')"
   ]
  },
  {
   "cell_type": "code",
   "execution_count": null,
   "id": "97ef5056",
   "metadata": {},
   "outputs": [],
   "source": [
    "train_benign_path = os.path.join(train_path, 'benign')\n",
    "train_malignant_path = os.path.join(train_path, 'malignant')\n",
    "test_benign_path = os.path.join(test_path, 'benign')\n",
    "test_malignant_path = os.path.join(test_path, 'malignant')"
   ]
  },
  {
   "cell_type": "code",
   "execution_count": null,
   "id": "f7ce42ea",
   "metadata": {},
   "outputs": [],
   "source": [
    "print(\"Checking dataset structure...\")\n",
    "print(f\"Dataset folder exists: {os.path.exists(dataset_path)}\")\n",
    "print(f\"Train folder exists: {os.path.exists(train_path)}\")\n",
    "print(f\"Test folder exists: {os.path.exists(test_path)}\")"
   ]
  },
  {
   "cell_type": "code",
   "execution_count": null,
   "id": "9c327703",
   "metadata": {},
   "outputs": [],
   "source": [
    "print(\"\\nTrain folders:\")\n",
    "print(f\"  Train/Benign exists: {os.path.exists(train_benign_path)}\")\n",
    "print(f\"  Train/Malignant exists: {os.path.exists(train_malignant_path)}\")\n",
    "\n",
    "print(\"\\nTest folders:\")\n",
    "print(f\"  Test/Benign exists: {os.path.exists(test_benign_path)}\")\n",
    "print(f\"  Test/Malignant exists: {os.path.exists(test_malignant_path)}\")"
   ]
  },
  {
   "cell_type": "code",
   "execution_count": null,
   "id": "3a2da967",
   "metadata": {},
   "outputs": [],
   "source": [
    "train_benign_count = len([f for f in os.listdir(train_benign_path) if f.endswith('.jpg')])\n",
    "print(f\"  Train/Benign images: {train_benign_count}\")\n",
    "\n",
    "train_malignant_count = len([f for f in os.listdir(train_malignant_path) if f.endswith('.jpg')])\n",
    "print(f\"  Train/Malignant images: {train_malignant_count}\")\n",
    "\n",
    "test_benign_count = len([f for f in os.listdir(test_benign_path) if f.endswith('.jpg')])\n",
    "print(f\"  Test/Benign images: {test_benign_count}\")\n",
    "\n",
    "test_malignant_count = len([f for f in os.listdir(test_malignant_path) if f.endswith('.jpg')])\n",
    "print(f\"  Test/Malignant images: {test_malignant_count}\")"
   ]
  },
  {
   "cell_type": "markdown",
   "id": "6abf1e48",
   "metadata": {},
   "source": [
    "Load Images"
   ]
  },
  {
   "cell_type": "code",
   "execution_count": null,
   "id": "96da335c",
   "metadata": {},
   "outputs": [],
   "source": [
    "def load_images(folder_path, label, max_samples=500):\n",
    "    images = []\n",
    "    labels = []\n",
    "\n",
    "    # Get all jpg files\n",
    "    files = [f for f in os.listdir(folder_path) if f.endswith('.jpg')]\n",
    "\n",
    "    # Randomly select max_samples files\n",
    "    if len(files) > max_samples:\n",
    "        files = random.sample(files, max_samples)\n",
    "\n",
    "    print(f\"Loading {len(files)} images from {folder_path.split('/')[-1]} folder...\")\n",
    "\n",
    "    # Define transforms\n",
    "    transform = transforms.Compose([\n",
    "        transforms.Resize((IMG_SIZE, IMG_SIZE)),\n",
    "        transforms.ToTensor(),  # Converts PIL image to tensor and normalizes to [0,1]\n",
    "    ])\n",
    "\n",
    "    for i, filename in enumerate(files):\n",
    "        try:\n",
    "            # Load and transform image\n",
    "            img_path = os.path.join(folder_path, filename)\n",
    "            img = Image.open(img_path).convert('RGB')\n",
    "            img_tensor = transform(img)\n",
    "\n",
    "            # Convert to numpy for consistency with rest of code\n",
    "            img_array = img_tensor.permute(1, 2, 0).numpy()  # CHW -> HWC\n",
    "\n",
    "            images.append(img_array)\n",
    "            labels.append(label)\n",
    "\n",
    "            if (i + 1) % 100 == 0:\n",
    "                print(f\"  Processed {i + 1}/{len(files)} images\")\n",
    "\n",
    "        except Exception as e:\n",
    "            print(f\"  Error loading {filename}: {e}\")\n",
    "            continue\n",
    "\n",
    "    return np.array(images), np.array(labels)"
   ]
  },
  {
   "cell_type": "code",
   "execution_count": null,
   "id": "c1a2d437",
   "metadata": {},
   "outputs": [],
   "source": [
    "train_benign_images, train_benign_labels = load_images(train_benign_path, 0, NUM_SAMPLES)  # 0 for benign\n",
    "train_malignant_images, train_malignant_labels = load_images(train_malignant_path, 1, NUM_SAMPLES)  # 1 for malignant"
   ]
  },
  {
   "cell_type": "code",
   "execution_count": null,
   "id": "da3e0c88",
   "metadata": {},
   "outputs": [],
   "source": [
    "# Combine training data\n",
    "X_train = np.concatenate([train_benign_images, train_malignant_images], axis=0)\n",
    "y_train = np.concatenate([train_benign_labels, train_malignant_labels], axis=0)"
   ]
  },
  {
   "cell_type": "code",
   "execution_count": null,
   "id": "65a45d06",
   "metadata": {},
   "outputs": [],
   "source": [
    "test_benign_images, test_benign_labels = load_images(test_benign_path, 0, NUM_SAMPLES)  # 0 for benign\n",
    "test_malignant_images, test_malignant_labels = load_images(test_malignant_path, 1, NUM_SAMPLES)  # 1 for malignant"
   ]
  },
  {
   "cell_type": "code",
   "execution_count": null,
   "id": "e6d8bacf",
   "metadata": {},
   "outputs": [],
   "source": [
    "# Combine test data\n",
    "X_test = np.concatenate([test_benign_images, test_malignant_images], axis=0)\n",
    "y_test = np.concatenate([test_benign_labels, test_malignant_labels], axis=0)"
   ]
  },
  {
   "cell_type": "code",
   "execution_count": null,
   "id": "36159c0b",
   "metadata": {},
   "outputs": [],
   "source": [
    "print(f\"\\n=== Dataset Summary ===\")\n",
    "print(f\"Training set:\")\n",
    "print(f\"  Total images: {len(X_train)}\")\n",
    "print(f\"  Benign images: {np.sum(y_train == 0)}\")\n",
    "print(f\"  Malignant images: {np.sum(y_train == 1)}\")"
   ]
  },
  {
   "cell_type": "code",
   "execution_count": null,
   "id": "61650184",
   "metadata": {},
   "outputs": [],
   "source": [
    "print(f\"\\nTest set:\")\n",
    "print(f\"  Total images: {len(X_test)}\")\n",
    "print(f\"  Benign images: {np.sum(y_test == 0)}\")\n",
    "print(f\"  Malignant images: {np.sum(y_test == 1)}\")"
   ]
  },
  {
   "cell_type": "code",
   "execution_count": null,
   "id": "a4d55429",
   "metadata": {},
   "outputs": [],
   "source": [
    "print(f\"\\nImage specifications:\")\n",
    "print(f\"  Image shape: {X_train[0].shape}\")\n",
    "print(f\"  Pixel value range: [{X_train.min():.3f}, {X_train.max():.3f}]\")"
   ]
  },
  {
   "cell_type": "code",
   "execution_count": null,
   "id": "6d300859",
   "metadata": {},
   "outputs": [],
   "source": []
  }
 ],
 "metadata": {
  "language_info": {
   "name": "python"
  }
 },
 "nbformat": 4,
 "nbformat_minor": 5
}
