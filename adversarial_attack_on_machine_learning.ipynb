{
 "cells": [
  {
   "cell_type": "markdown",
   "id": "6d8f6519",
   "metadata": {},
   "source": [
    "VGG-19 IMPLEMENTATION"
   ]
  },
  {
   "cell_type": "code",
   "execution_count": null,
   "id": "37abda9e",
   "metadata": {},
   "outputs": [],
   "source": [
    "import os\n",
    "import numpy as np\n",
    "import matplotlib.pyplot as plt\n",
    "import torch\n",
    "import torch.nn as nn\n",
    "import torch.optim as optim\n",
    "import torchvision.transforms as transforms\n",
    "from PIL import Image\n",
    "from sklearn.model_selection import train_test_split\n",
    "# from google.colab import drive\n",
    "import random"
   ]
  },
  {
   "cell_type": "code",
   "execution_count": null,
   "id": "aa72d4ae",
   "metadata": {},
   "outputs": [],
   "source": [
    "# drive.mount('/content/drive')"
   ]
  },
  {
   "cell_type": "code",
   "execution_count": null,
   "id": "48822874",
   "metadata": {},
   "outputs": [],
   "source": [
    "IMG_SIZE = 224  # 224x224 as mentioned in paper\n",
    "NUM_SAMPLES = 500"
   ]
  },
  {
   "cell_type": "code",
   "execution_count": null,
   "id": "5bd077b5",
   "metadata": {},
   "outputs": [],
   "source": [
    "dataset_path = 'E://data'\n",
    "train_path = os.path.join(dataset_path, 'train')\n",
    "test_path = os.path.join(dataset_path, 'test')"
   ]
  },
  {
   "cell_type": "code",
   "execution_count": null,
   "id": "97ef5056",
   "metadata": {},
   "outputs": [],
   "source": [
    "train_benign_path = os.path.join(train_path, 'benign')\n",
    "train_malignant_path = os.path.join(train_path, 'malignant')\n",
    "test_benign_path = os.path.join(test_path, 'benign')\n",
    "test_malignant_path = os.path.join(test_path, 'malignant')"
   ]
  },
  {
   "cell_type": "code",
   "execution_count": null,
   "id": "f7ce42ea",
   "metadata": {},
   "outputs": [],
   "source": [
    "print(\"Checking dataset structure...\")\n",
    "print(f\"Dataset folder exists: {os.path.exists(dataset_path)}\")\n",
    "print(f\"Train folder exists: {os.path.exists(train_path)}\")\n",
    "print(f\"Test folder exists: {os.path.exists(test_path)}\")"
   ]
  },
  {
   "cell_type": "code",
   "execution_count": null,
   "id": "9c327703",
   "metadata": {},
   "outputs": [],
   "source": [
    "print(\"\\nTrain folders:\")\n",
    "print(f\"  Train/Benign exists: {os.path.exists(train_benign_path)}\")\n",
    "print(f\"  Train/Malignant exists: {os.path.exists(train_malignant_path)}\")\n",
    "\n",
    "print(\"\\nTest folders:\")\n",
    "print(f\"  Test/Benign exists: {os.path.exists(test_benign_path)}\")\n",
    "print(f\"  Test/Malignant exists: {os.path.exists(test_malignant_path)}\")"
   ]
  }
 ],
 "metadata": {
  "language_info": {
   "name": "python"
  }
 },
 "nbformat": 4,
 "nbformat_minor": 5
}
